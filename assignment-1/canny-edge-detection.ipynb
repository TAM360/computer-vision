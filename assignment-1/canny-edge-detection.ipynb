{
 "cells": [
  {
   "cell_type": "code",
   "execution_count": 12,
   "metadata": {},
   "outputs": [],
   "source": [
    "from PIL import Image\n",
    "import numpy as np\n",
    "import matplotlib.pyplot as plt\n",
    "\n",
    "\n",
    "def filtering_2d(image, kernel):\n",
    "    image_height, image_width = image.shape\n",
    "    kernel_height, kernel_width = kernel.shape\n",
    "    \n",
    "    # Calculate the output dimensions\n",
    "    output_height = image_height - kernel_height + 1\n",
    "    output_width = image_width - kernel_width + 1\n",
    "    \n",
    "    # Initialize the output matrix\n",
    "    output = np.zeros((output_height, output_width))\n",
    "    \n",
    "    # Apply convolution (slide the kernel over the image)\n",
    "    for i in range(output_height):\n",
    "        for j in range(output_width):\n",
    "            # Element-wise multiplication and sum\n",
    "            output[i, j] = np.sum(image[i:i+kernel_height, j:j+kernel_width] * kernel)\n",
    "    \n",
    "    return output\n",
    "\n",
    "def get_x_derivative(img_matrix, kernel):\n",
    "    pass\n",
    "\n",
    "\n",
    "def get_y_derivative(img_matrix, kernel):\n",
    "    pass\n",
    "\n",
    "\n",
    "def get_grad_mag():\n",
    "    pass\n",
    "\n",
    "\n",
    "def get_grad_angle(matrix_a, matrix_b):\n",
    "    pass"
   ]
  },
  {
   "cell_type": "code",
   "execution_count": 13,
   "metadata": {},
   "outputs": [
    {
     "name": "stdout",
     "output_type": "stream",
     "text": [
      "(1066, 1600)\n",
      "uint8\n",
      "img_matrix [[124 124 124 ... 110 110 110]\n",
      " [124 124 124 ... 110 110 110]\n",
      " [124 124 124 ... 110 110 110]\n",
      " ...\n",
      " [153 156 160 ... 196 196 196]\n",
      " [153 156 160 ... 196 196 196]\n",
      " [153 156 160 ... 196 196 196]]\n",
      "gaussian_filtering [[1984. 1984. 1984. ... 1760. 1760. 1760.]\n",
      " [1984. 1984. 1984. ... 1760. 1760. 1760.]\n",
      " [1980. 1980. 1980. ... 1760. 1760. 1760.]\n",
      " ...\n",
      " [2500. 2557. 2608. ... 3136. 3136. 3136.]\n",
      " [2500. 2555. 2593. ... 3136. 3136. 3136.]\n",
      " [2500. 2553. 2581. ... 3136. 3136. 3136.]]\n"
     ]
    }
   ],
   "source": [
    "group_img = Image.open(\"dataset/group-photo.jpeg\")\n",
    "gray_group_img = group_img.convert('L')\n",
    "\n",
    "# Convert the image to a NumPy array\n",
    "img_matrix = np.array(gray_group_img)\n",
    "\n",
    "# Display the shape and type of the array\n",
    "print(img_matrix.shape)\n",
    "print(img_matrix.dtype)\n",
    "print(\"img_matrix\", img_matrix) \n",
    "\n",
    "# step 1: Apply Gaussian smoothing on the image.\n",
    "# 3x3 Gaussian Fiter kernel\n",
    "gaussian_kernel = np.array([[1, 2, 1], [2, 4, 2], [1, 2, 1]])\n",
    "gaussian_filtering = filtering_2d(img_matrix, gaussian_kernel)\n",
    "\n",
    "print(\"gaussian_filtering\", gaussian_filtering)\n",
    "\n",
    "# step 2a: Get X derivative\n",
    "\n",
    "# step 2b: Get Y derivative"
   ]
  }
 ],
 "metadata": {
  "kernelspec": {
   "display_name": "base",
   "language": "python",
   "name": "python3"
  },
  "language_info": {
   "codemirror_mode": {
    "name": "ipython",
    "version": 3
   },
   "file_extension": ".py",
   "mimetype": "text/x-python",
   "name": "python",
   "nbconvert_exporter": "python",
   "pygments_lexer": "ipython3",
   "version": "3.11.0"
  }
 },
 "nbformat": 4,
 "nbformat_minor": 2
}
